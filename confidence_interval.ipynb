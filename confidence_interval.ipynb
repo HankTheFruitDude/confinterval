{
 "cells": [
  {
   "cell_type": "markdown",
   "metadata": {},
   "source": [
    "VERTRAUENSINTERVALL\n",
    "=====================\n",
    "\n",
    "In diesem notebook wird aus Messdaten der Mittelwert gebildet, die Standardabweichung berechnet und ein m%-Vertrauensintervall gebildet und ausgegeben.\n",
    "Der Code ist praktisch identisch mit dem Skript confinterval.py.\n",
    "\n",
    "Als erstes muss sichergestellt werden, dass die Messdaten in einem .txt file im working directory abgespeichert sind. D.h. in dem Verzeichnis, in dem dieses notebook abgespeichert liegt.\n",
    "\n",
    "Nun werden die erforderlichen libraries und Funktionen importiert:"
   ]
  },
  {
   "cell_type": "code",
   "execution_count": 2,
   "metadata": {},
   "outputs": [],
   "source": [
    "#!/bin/python\n",
    "# Geschrieben 10/2020, Henry Korhonen henryk@ethz.ch, basierend auf Matlabskripten von Martin Willeke. Hinweise, Bemerkungen und Vorschläge bitte an henryk@ethz.ch.\n",
    "\n",
    "import pandas as pd\n",
    "import numpy as np\n",
    "from scipy.stats import t\n",
    "from math import sqrt"
   ]
  },
  {
   "cell_type": "markdown",
   "metadata": {},
   "source": [
    "Jetzt müssen die Daten aus dem .txt file ausgelesen und in einen sog. Dataframe (https://pandas.pydata.org/pandas-docs/stable/reference/api/pandas.DataFrame.html für weitere Informationen) geschrieben werden. Dies passiert in der ersten Zeile. Ganz wichtig: der Dateiname (hier \"test-mittelwert.txt\") muss hardcoded werden, d.h. das erste Argument von read_table() muss direkt im code angepasst werden. Die Messdaten sollten mit Leerzeichen getrennt werden, andernfalls müsste man das Argument sep anpassen.\n",
    "\n",
    "Aus dem Dataframe werden die Werte der spalte \"y\" extrahiert. Dies ist ein markanter Unterschied zu Matlab: hier werden \"Spalten\" nicht mit deren jeweiligen Nummern, sondern mit frei wählbaren Namen (names, string als input) \"angesteuert\".\n",
    "\n",
    "Die Anzahl Datenpunkte wird in der Variable N gespeichert und ausgegeben."
   ]
  },
  {
   "cell_type": "code",
   "execution_count": 3,
   "metadata": {},
   "outputs": [
    {
     "name": "stdout",
     "output_type": "stream",
     "text": [
      "Anzahl Datenpunkte: 10\n"
     ]
    }
   ],
   "source": [
    "xy = pd.read_table('test-mittelwert.txt', names=['x','y'], sep=r'\\s+') # Lesen der Daten, erstellen eines Dataframes. Als Separator kommt hier eine unbestimmte Anzahl Leerschläge in Frage. Andernfalls \"sep\" anpassen.\n",
    "\n",
    "y = xy['y'] # Relevante Daten aus dem Dataframe extrahieren. Achtung: \"names\" in pd.read_table gibt der ersten Spalte den Namen x und der zweiten y. Unbedingt sicherstellen, dass die richtigen Daten extrahiert werden!\n",
    "\n",
    "N = len(y) # Anzahl Datenpunkte ermitteln.\n",
    "print(f'Anzahl Datenpunkte: {N}')"
   ]
  },
  {
   "cell_type": "markdown",
   "metadata": {},
   "source": [
    "Nun wird der Mittelwert generiert und ausgegeben."
   ]
  },
  {
   "cell_type": "code",
   "execution_count": 4,
   "metadata": {},
   "outputs": [
    {
     "name": "stdout",
     "output_type": "stream",
     "text": [
      "Mittelwert: 2685.8\n"
     ]
    }
   ],
   "source": [
    "mwert = y.mean() # Mittelwert aus dem Dataframe y bestimmen.\n",
    "\n",
    "print(f'Mittelwert: {mwert}')"
   ]
  },
  {
   "cell_type": "markdown",
   "metadata": {},
   "source": [
    "Interessant ist jetzt noch die Standardabweichung (STD, STandard Deviation). Hier muss zwischen der STD einer Einzelmessung und derer des Mittelwertes unterschieden werden. Im code bedeutet das bloß eine weitere Zeile, in der durch die Quadratwurzel der Anzahl Messungen geteilt wird.\n",
    "\n",
    "Achtung: Default ist in der ersten Zeile ddof=0! (Der Nenner wird so zu N anstatt zum gewünschten N-1)\n",
    "ddof muss auf 2 gesetzt werden, für Parameter für eine lin. Reg. (ystd wäre dann z.B. die Standardabweichung der Steigung oder des Achsenabschnitts aus einer lin. Reg.)"
   ]
  },
  {
   "cell_type": "code",
   "execution_count": 5,
   "metadata": {},
   "outputs": [],
   "source": [
    "ystd = np.std(y, ddof=1) # Standardabweichung der EINZELMESSUNG. \n",
    "\n",
    "ystd_mean = ystd/sqrt(N) # Standardabweichung des MITTELWERTES"
   ]
  },
  {
   "cell_type": "markdown",
   "metadata": {},
   "source": [
    "Nun da diese beiden Werte bekannt sind (noch nicht ausgegeben), kann ein m%-Vertrauensintervall berechnet werden.\n",
    "p (= m/100) muss hardcoded werden. Bei 97.5% wäre bspw. p = 0.975."
   ]
  },
  {
   "cell_type": "code",
   "execution_count": 6,
   "metadata": {},
   "outputs": [],
   "source": [
    "p = 0.95\n",
    "p100 = p*100\n",
    "intval = t.interval(p,N-1,mwert, ystd_mean)\n",
    "# t.interval aus der Library scipy.stats macht das, was unten steht bereits elegant in einer Zeile.\n",
    "\n",
    "tinv = t.ppf((1+p)/2,N-1) # Berechnung des Student-T Faktors\n",
    "halb = ystd_mean*tinv\n",
    "# Hier wird die Standardabweichung des MITTELWERTES (s. Messfehlerskript) benutzt!"
   ]
  },
  {
   "cell_type": "markdown",
   "metadata": {},
   "source": [
    "Schließlich wird das ganze noch ausgegeben. Nota bene: man könnte auch anstelle von intval einfach mwert+halb und mwert-halb wählen, das Ergebnis bliebe dasselbe. intval ist nur da, um zu zeigen, dass viele \"wissenschaftliche\" libraries wie scipy oder numpy bereits mit sehr nützlichen Funktionen ausgestattet sind.\n",
    "\n",
    "Et voilà."
   ]
  },
  {
   "cell_type": "code",
   "execution_count": 7,
   "metadata": {},
   "outputs": [
    {
     "name": "stdout",
     "output_type": "stream",
     "text": [
      "Das 95.0-% Vertrauensintervall ist: (2533.4428166109137, 2838.1571833890866)\n",
      "Anders ausgedrückt: 2685.8 +- 152.35718338908646\n"
     ]
    }
   ],
   "source": [
    "print(f'Das {p100}-% Vertrauensintervall ist: {intval}')\n",
    "\n",
    "\n",
    "print(f'Anders ausgedrückt: {mwert} +- {halb}')"
   ]
  }
 ],
 "metadata": {
  "kernelspec": {
   "display_name": "Python 3",
   "language": "python",
   "name": "python3"
  },
  "language_info": {
   "codemirror_mode": {
    "name": "ipython",
    "version": 3
   },
   "file_extension": ".py",
   "mimetype": "text/x-python",
   "name": "python",
   "nbconvert_exporter": "python",
   "pygments_lexer": "ipython3",
   "version": "3.9.1"
  }
 },
 "nbformat": 4,
 "nbformat_minor": 4
}
